{
 "cells": [
  {
   "cell_type": "code",
   "execution_count": 3,
   "metadata": {
    "colab": {
     "base_uri": "https://localhost:8080/"
    },
    "executionInfo": {
     "elapsed": 18555,
     "status": "ok",
     "timestamp": 1758703980025,
     "user": {
      "displayName": "강태훈/컴퓨터공학부(컴퓨터공학전공)",
      "userId": "15889769205173262204"
     },
     "user_tz": -540
    },
    "id": "F-H3HC4qTt23",
    "outputId": "fb6c5fe4-c47e-426a-9dfc-e39f399e99df"
   },
   "outputs": [
    {
     "name": "stdout",
     "output_type": "stream",
     "text": [
      "Mounted at /content/drive\n"
     ]
    }
   ],
   "source": [
    "from google.colab import drive\n",
    "drive.mount('/content/drive')"
   ]
  },
  {
   "cell_type": "code",
   "execution_count": 3,
   "metadata": {
    "colab": {
     "base_uri": "https://localhost:8080/",
     "height": 423
    },
    "executionInfo": {
     "elapsed": 7430,
     "status": "ok",
     "timestamp": 1758703988879,
     "user": {
      "displayName": "강태훈/컴퓨터공학부(컴퓨터공학전공)",
      "userId": "15889769205173262204"
     },
     "user_tz": -540
    },
    "id": "W204yOT-C5CK",
    "outputId": "11c5d057-280e-4582-ddf4-f6ef69b5c7b9"
   },
   "outputs": [],
   "source": [
    "import pandas as pd\n",
    "import tensorflow as tf\n",
    "from sklearn.model_selection import train_test_split\n",
    "from sklearn.tree import DecisionTreeClassifier\n",
    "from sklearn.ensemble import RandomForestClassifier\n",
    "from sklearn.linear_model import LogisticRegression\n",
    "from sklearn.metrics import accuracy_score\n",
    "from tensorflow.keras import layers, models\n",
    "import numpy as np\n",
    "\n",
    "\n",
    "\n",
    "# -----------------------------\n",
    "# 1) 데이터 준비\n",
    "# -----------------------------\n"
   ]
  },
  {
   "cell_type": "code",
   "execution_count": 10,
   "metadata": {},
   "outputs": [],
   "source": [
    "# -----------------------------\n",
    "# 1) 데이터 준비\n",
    "# -----------------------------\n",
    "\n",
    "\n",
    "import matplotlib.pyplot as plt\n",
    "from sklearn import datasets, metrics\n",
    "from sklearn.model_selection import train_test_split\n",
    "\n",
    "fashion_mnist = tf.keras.datasets.fashion_mnist\n",
    "(X_train, y_train), (X_test, y_test) = fashion_mnist.load_data()\n",
    "\n",
    "X_train = X_train.reshape(-1, 28*28)\n",
    "X_test = X_test.reshape(-1, 28*28)\n"
   ]
  },
  {
   "cell_type": "code",
   "execution_count": 11,
   "metadata": {
    "colab": {
     "base_uri": "https://localhost:8080/"
    },
    "executionInfo": {
     "elapsed": 10,
     "status": "ok",
     "timestamp": 1758704010332,
     "user": {
      "displayName": "강태훈/컴퓨터공학부(컴퓨터공학전공)",
      "userId": "15889769205173262204"
     },
     "user_tz": -540
    },
    "id": "_F43TJ5DJEue",
    "outputId": "7dcca661-ba11-46bd-f7e5-c0e1f0e02908"
   },
   "outputs": [
    {
     "data": {
      "text/plain": [
       "((60000, 784), (10000, 784), (60000,), (10000,))"
      ]
     },
     "execution_count": 11,
     "metadata": {},
     "output_type": "execute_result"
    }
   ],
   "source": [
    "X_train.shape, X_test.shape, y_train.shape, y_test.shape  # 각 데이터의 shape 확인 (전체데이터 수, 컬럼숫자)"
   ]
  },
  {
   "cell_type": "code",
   "execution_count": 12,
   "metadata": {
    "colab": {
     "base_uri": "https://localhost:8080/"
    },
    "executionInfo": {
     "elapsed": 138,
     "status": "ok",
     "timestamp": 1758704012056,
     "user": {
      "displayName": "강태훈/컴퓨터공학부(컴퓨터공학전공)",
      "userId": "15889769205173262204"
     },
     "user_tz": -540
    },
    "id": "GT2cNXoDJEx9",
    "outputId": "2b922af9-94d7-4c55-9f96-e5f5ca0ddc97"
   },
   "outputs": [],
   "source": [
    "# -----------------------------\n",
    "# 2) 모델 구성\n",
    "# -----------------------------\n",
    "model = models.Sequential([\n",
    "    layers.Dense(64, activation=\"relu\", input_shape=(X_train.shape[1],)),\n",
    "    layers.Dropout(0.3),\n",
    "    layers.Dense(32, activation=\"relu\"),\n",
    "    layers.Dense(10, activation=\"softmax\")   # 클래스 수 맞춤\n",
    "])\n",
    "\n",
    "model.compile(\n",
    "    optimizer=\"adam\",\n",
    "    loss=\"sparse_categorical_crossentropy\",  \n",
    "    metrics=[\"accuracy\"]\n",
    ")\n",
    "\n"
   ]
  },
  {
   "cell_type": "code",
   "execution_count": 13,
   "metadata": {
    "colab": {
     "base_uri": "https://localhost:8080/"
    },
    "collapsed": true,
    "executionInfo": {
     "elapsed": 34595,
     "status": "ok",
     "timestamp": 1758704053004,
     "user": {
      "displayName": "강태훈/컴퓨터공학부(컴퓨터공학전공)",
      "userId": "15889769205173262204"
     },
     "user_tz": -540
    },
    "id": "PAZN0vsKJE1V",
    "outputId": "28a902b2-68d3-489e-8e4f-77c089203ac0"
   },
   "outputs": [
    {
     "name": "stdout",
     "output_type": "stream",
     "text": [
      "Epoch 1/50\n",
      "\u001b[1m3000/3000\u001b[0m \u001b[32m━━━━━━━━━━━━━━━━━━━━\u001b[0m\u001b[37m\u001b[0m \u001b[1m2s\u001b[0m 487us/step - accuracy: 0.3736 - loss: 2.5093 - val_accuracy: 0.4048 - val_loss: 1.5279\n",
      "Epoch 2/50\n",
      "\u001b[1m3000/3000\u001b[0m \u001b[32m━━━━━━━━━━━━━━━━━━━━\u001b[0m\u001b[37m\u001b[0m \u001b[1m1s\u001b[0m 434us/step - accuracy: 0.4187 - loss: 1.5367 - val_accuracy: 0.4778 - val_loss: 1.2836\n",
      "Epoch 3/50\n",
      "\u001b[1m3000/3000\u001b[0m \u001b[32m━━━━━━━━━━━━━━━━━━━━\u001b[0m\u001b[37m\u001b[0m \u001b[1m1s\u001b[0m 451us/step - accuracy: 0.4531 - loss: 1.4333 - val_accuracy: 0.5771 - val_loss: 1.0602\n",
      "Epoch 4/50\n",
      "\u001b[1m3000/3000\u001b[0m \u001b[32m━━━━━━━━━━━━━━━━━━━━\u001b[0m\u001b[37m\u001b[0m \u001b[1m1s\u001b[0m 455us/step - accuracy: 0.4759 - loss: 1.3725 - val_accuracy: 0.5658 - val_loss: 1.1505\n",
      "Epoch 5/50\n",
      "\u001b[1m3000/3000\u001b[0m \u001b[32m━━━━━━━━━━━━━━━━━━━━\u001b[0m\u001b[37m\u001b[0m \u001b[1m1s\u001b[0m 478us/step - accuracy: 0.4950 - loss: 1.3071 - val_accuracy: 0.5119 - val_loss: 1.1404\n",
      "Epoch 6/50\n",
      "\u001b[1m3000/3000\u001b[0m \u001b[32m━━━━━━━━━━━━━━━━━━━━\u001b[0m\u001b[37m\u001b[0m \u001b[1m1s\u001b[0m 438us/step - accuracy: 0.4992 - loss: 1.2750 - val_accuracy: 0.6022 - val_loss: 1.0083\n",
      "Epoch 7/50\n",
      "\u001b[1m3000/3000\u001b[0m \u001b[32m━━━━━━━━━━━━━━━━━━━━\u001b[0m\u001b[37m\u001b[0m \u001b[1m1s\u001b[0m 472us/step - accuracy: 0.5199 - loss: 1.2180 - val_accuracy: 0.6137 - val_loss: 1.0959\n",
      "Epoch 8/50\n",
      "\u001b[1m3000/3000\u001b[0m \u001b[32m━━━━━━━━━━━━━━━━━━━━\u001b[0m\u001b[37m\u001b[0m \u001b[1m1s\u001b[0m 463us/step - accuracy: 0.5262 - loss: 1.1932 - val_accuracy: 0.6382 - val_loss: 1.3633\n",
      "Epoch 9/50\n",
      "\u001b[1m3000/3000\u001b[0m \u001b[32m━━━━━━━━━━━━━━━━━━━━\u001b[0m\u001b[37m\u001b[0m \u001b[1m1s\u001b[0m 497us/step - accuracy: 0.5378 - loss: 1.1477 - val_accuracy: 0.6158 - val_loss: 0.9478\n",
      "Epoch 10/50\n",
      "\u001b[1m3000/3000\u001b[0m \u001b[32m━━━━━━━━━━━━━━━━━━━━\u001b[0m\u001b[37m\u001b[0m \u001b[1m1s\u001b[0m 449us/step - accuracy: 0.5463 - loss: 1.1071 - val_accuracy: 0.6145 - val_loss: 0.9583\n",
      "Epoch 11/50\n",
      "\u001b[1m3000/3000\u001b[0m \u001b[32m━━━━━━━━━━━━━━━━━━━━\u001b[0m\u001b[37m\u001b[0m \u001b[1m1s\u001b[0m 479us/step - accuracy: 0.5549 - loss: 1.0917 - val_accuracy: 0.5910 - val_loss: 0.9595\n",
      "Epoch 12/50\n",
      "\u001b[1m3000/3000\u001b[0m \u001b[32m━━━━━━━━━━━━━━━━━━━━\u001b[0m\u001b[37m\u001b[0m \u001b[1m1s\u001b[0m 436us/step - accuracy: 0.5574 - loss: 1.0747 - val_accuracy: 0.6295 - val_loss: 0.8975\n",
      "Epoch 13/50\n",
      "\u001b[1m3000/3000\u001b[0m \u001b[32m━━━━━━━━━━━━━━━━━━━━\u001b[0m\u001b[37m\u001b[0m \u001b[1m1s\u001b[0m 447us/step - accuracy: 0.5644 - loss: 1.0654 - val_accuracy: 0.6291 - val_loss: 0.8853\n",
      "Epoch 14/50\n",
      "\u001b[1m3000/3000\u001b[0m \u001b[32m━━━━━━━━━━━━━━━━━━━━\u001b[0m\u001b[37m\u001b[0m \u001b[1m1s\u001b[0m 429us/step - accuracy: 0.5769 - loss: 1.0397 - val_accuracy: 0.7125 - val_loss: 0.7549\n",
      "Epoch 15/50\n",
      "\u001b[1m3000/3000\u001b[0m \u001b[32m━━━━━━━━━━━━━━━━━━━━\u001b[0m\u001b[37m\u001b[0m \u001b[1m1s\u001b[0m 436us/step - accuracy: 0.6274 - loss: 0.9662 - val_accuracy: 0.7022 - val_loss: 0.7688\n",
      "Epoch 16/50\n",
      "\u001b[1m3000/3000\u001b[0m \u001b[32m━━━━━━━━━━━━━━━━━━━━\u001b[0m\u001b[37m\u001b[0m \u001b[1m1s\u001b[0m 431us/step - accuracy: 0.6300 - loss: 0.9522 - val_accuracy: 0.7026 - val_loss: 0.8300\n",
      "Epoch 17/50\n",
      "\u001b[1m3000/3000\u001b[0m \u001b[32m━━━━━━━━━━━━━━━━━━━━\u001b[0m\u001b[37m\u001b[0m \u001b[1m1s\u001b[0m 468us/step - accuracy: 0.6137 - loss: 0.9968 - val_accuracy: 0.7174 - val_loss: 0.7907\n",
      "Epoch 18/50\n",
      "\u001b[1m3000/3000\u001b[0m \u001b[32m━━━━━━━━━━━━━━━━━━━━\u001b[0m\u001b[37m\u001b[0m \u001b[1m1s\u001b[0m 450us/step - accuracy: 0.6307 - loss: 0.9553 - val_accuracy: 0.6619 - val_loss: 0.9012\n",
      "Epoch 19/50\n",
      "\u001b[1m3000/3000\u001b[0m \u001b[32m━━━━━━━━━━━━━━━━━━━━\u001b[0m\u001b[37m\u001b[0m \u001b[1m1s\u001b[0m 439us/step - accuracy: 0.6316 - loss: 0.9477 - val_accuracy: 0.7044 - val_loss: 0.7914\n",
      "Epoch 20/50\n",
      "\u001b[1m3000/3000\u001b[0m \u001b[32m━━━━━━━━━━━━━━━━━━━━\u001b[0m\u001b[37m\u001b[0m \u001b[1m1s\u001b[0m 448us/step - accuracy: 0.6392 - loss: 0.9110 - val_accuracy: 0.6888 - val_loss: 0.7959\n",
      "Epoch 21/50\n",
      "\u001b[1m3000/3000\u001b[0m \u001b[32m━━━━━━━━━━━━━━━━━━━━\u001b[0m\u001b[37m\u001b[0m \u001b[1m1s\u001b[0m 466us/step - accuracy: 0.6364 - loss: 0.9283 - val_accuracy: 0.6974 - val_loss: 0.7841\n",
      "Epoch 22/50\n",
      "\u001b[1m3000/3000\u001b[0m \u001b[32m━━━━━━━━━━━━━━━━━━━━\u001b[0m\u001b[37m\u001b[0m \u001b[1m1s\u001b[0m 449us/step - accuracy: 0.6386 - loss: 0.9212 - val_accuracy: 0.6710 - val_loss: 0.8609\n",
      "Epoch 23/50\n",
      "\u001b[1m3000/3000\u001b[0m \u001b[32m━━━━━━━━━━━━━━━━━━━━\u001b[0m\u001b[37m\u001b[0m \u001b[1m1s\u001b[0m 427us/step - accuracy: 0.6469 - loss: 0.9002 - val_accuracy: 0.6998 - val_loss: 0.7751\n",
      "Epoch 24/50\n",
      "\u001b[1m3000/3000\u001b[0m \u001b[32m━━━━━━━━━━━━━━━━━━━━\u001b[0m\u001b[37m\u001b[0m \u001b[1m1s\u001b[0m 442us/step - accuracy: 0.6599 - loss: 0.8659 - val_accuracy: 0.6938 - val_loss: 0.7921\n",
      "Epoch 25/50\n",
      "\u001b[1m3000/3000\u001b[0m \u001b[32m━━━━━━━━━━━━━━━━━━━━\u001b[0m\u001b[37m\u001b[0m \u001b[1m1s\u001b[0m 479us/step - accuracy: 0.6649 - loss: 0.8547 - val_accuracy: 0.7120 - val_loss: 0.7156\n",
      "Epoch 26/50\n",
      "\u001b[1m3000/3000\u001b[0m \u001b[32m━━━━━━━━━━━━━━━━━━━━\u001b[0m\u001b[37m\u001b[0m \u001b[1m1s\u001b[0m 451us/step - accuracy: 0.6630 - loss: 0.8520 - val_accuracy: 0.7157 - val_loss: 0.7377\n",
      "Epoch 27/50\n",
      "\u001b[1m3000/3000\u001b[0m \u001b[32m━━━━━━━━━━━━━━━━━━━━\u001b[0m\u001b[37m\u001b[0m \u001b[1m1s\u001b[0m 458us/step - accuracy: 0.6670 - loss: 0.8465 - val_accuracy: 0.6986 - val_loss: 0.7764\n",
      "Epoch 28/50\n",
      "\u001b[1m3000/3000\u001b[0m \u001b[32m━━━━━━━━━━━━━━━━━━━━\u001b[0m\u001b[37m\u001b[0m \u001b[1m1s\u001b[0m 445us/step - accuracy: 0.6674 - loss: 0.8407 - val_accuracy: 0.7336 - val_loss: 0.6867\n",
      "Epoch 29/50\n",
      "\u001b[1m3000/3000\u001b[0m \u001b[32m━━━━━━━━━━━━━━━━━━━━\u001b[0m\u001b[37m\u001b[0m \u001b[1m1s\u001b[0m 443us/step - accuracy: 0.6692 - loss: 0.8472 - val_accuracy: 0.7236 - val_loss: 0.7285\n",
      "Epoch 30/50\n",
      "\u001b[1m3000/3000\u001b[0m \u001b[32m━━━━━━━━━━━━━━━━━━━━\u001b[0m\u001b[37m\u001b[0m \u001b[1m1s\u001b[0m 450us/step - accuracy: 0.6748 - loss: 0.8259 - val_accuracy: 0.7220 - val_loss: 0.7225\n",
      "Epoch 31/50\n",
      "\u001b[1m3000/3000\u001b[0m \u001b[32m━━━━━━━━━━━━━━━━━━━━\u001b[0m\u001b[37m\u001b[0m \u001b[1m1s\u001b[0m 440us/step - accuracy: 0.6637 - loss: 0.8542 - val_accuracy: 0.7060 - val_loss: 0.7645\n",
      "Epoch 32/50\n",
      "\u001b[1m3000/3000\u001b[0m \u001b[32m━━━━━━━━━━━━━━━━━━━━\u001b[0m\u001b[37m\u001b[0m \u001b[1m1s\u001b[0m 453us/step - accuracy: 0.6604 - loss: 0.8502 - val_accuracy: 0.7057 - val_loss: 0.7338\n",
      "Epoch 33/50\n",
      "\u001b[1m3000/3000\u001b[0m \u001b[32m━━━━━━━━━━━━━━━━━━━━\u001b[0m\u001b[37m\u001b[0m \u001b[1m1s\u001b[0m 444us/step - accuracy: 0.6673 - loss: 0.8390 - val_accuracy: 0.7054 - val_loss: 0.7502\n",
      "Epoch 34/50\n",
      "\u001b[1m3000/3000\u001b[0m \u001b[32m━━━━━━━━━━━━━━━━━━━━\u001b[0m\u001b[37m\u001b[0m \u001b[1m1s\u001b[0m 461us/step - accuracy: 0.6733 - loss: 0.8539 - val_accuracy: 0.7270 - val_loss: 0.7052\n",
      "Epoch 35/50\n",
      "\u001b[1m3000/3000\u001b[0m \u001b[32m━━━━━━━━━━━━━━━━━━━━\u001b[0m\u001b[37m\u001b[0m \u001b[1m1s\u001b[0m 451us/step - accuracy: 0.6704 - loss: 0.8394 - val_accuracy: 0.6910 - val_loss: 0.8046\n",
      "Epoch 36/50\n",
      "\u001b[1m3000/3000\u001b[0m \u001b[32m━━━━━━━━━━━━━━━━━━━━\u001b[0m\u001b[37m\u001b[0m \u001b[1m1s\u001b[0m 444us/step - accuracy: 0.6700 - loss: 0.8377 - val_accuracy: 0.7247 - val_loss: 0.7397\n",
      "Epoch 37/50\n",
      "\u001b[1m3000/3000\u001b[0m \u001b[32m━━━━━━━━━━━━━━━━━━━━\u001b[0m\u001b[37m\u001b[0m \u001b[1m1s\u001b[0m 456us/step - accuracy: 0.6656 - loss: 0.8458 - val_accuracy: 0.7287 - val_loss: 0.6991\n",
      "Epoch 38/50\n",
      "\u001b[1m3000/3000\u001b[0m \u001b[32m━━━━━━━━━━━━━━━━━━━━\u001b[0m\u001b[37m\u001b[0m \u001b[1m1s\u001b[0m 445us/step - accuracy: 0.6720 - loss: 0.8292 - val_accuracy: 0.7361 - val_loss: 0.6992\n",
      "Epoch 39/50\n",
      "\u001b[1m3000/3000\u001b[0m \u001b[32m━━━━━━━━━━━━━━━━━━━━\u001b[0m\u001b[37m\u001b[0m \u001b[1m1s\u001b[0m 451us/step - accuracy: 0.6725 - loss: 0.8298 - val_accuracy: 0.7178 - val_loss: 0.7309\n",
      "Epoch 40/50\n",
      "\u001b[1m3000/3000\u001b[0m \u001b[32m━━━━━━━━━━━━━━━━━━━━\u001b[0m\u001b[37m\u001b[0m \u001b[1m1s\u001b[0m 444us/step - accuracy: 0.6674 - loss: 0.8473 - val_accuracy: 0.6849 - val_loss: 0.7975\n",
      "Epoch 41/50\n",
      "\u001b[1m3000/3000\u001b[0m \u001b[32m━━━━━━━━━━━━━━━━━━━━\u001b[0m\u001b[37m\u001b[0m \u001b[1m1s\u001b[0m 456us/step - accuracy: 0.6747 - loss: 0.8254 - val_accuracy: 0.7328 - val_loss: 0.6974\n",
      "Epoch 42/50\n",
      "\u001b[1m3000/3000\u001b[0m \u001b[32m━━━━━━━━━━━━━━━━━━━━\u001b[0m\u001b[37m\u001b[0m \u001b[1m1s\u001b[0m 441us/step - accuracy: 0.6792 - loss: 0.8157 - val_accuracy: 0.7199 - val_loss: 0.7377\n",
      "Epoch 43/50\n",
      "\u001b[1m3000/3000\u001b[0m \u001b[32m━━━━━━━━━━━━━━━━━━━━\u001b[0m\u001b[37m\u001b[0m \u001b[1m1s\u001b[0m 441us/step - accuracy: 0.6731 - loss: 0.8242 - val_accuracy: 0.7324 - val_loss: 0.7213\n",
      "Epoch 44/50\n",
      "\u001b[1m3000/3000\u001b[0m \u001b[32m━━━━━━━━━━━━━━━━━━━━\u001b[0m\u001b[37m\u001b[0m \u001b[1m1s\u001b[0m 448us/step - accuracy: 0.6770 - loss: 0.8112 - val_accuracy: 0.7253 - val_loss: 0.7099\n",
      "Epoch 45/50\n",
      "\u001b[1m3000/3000\u001b[0m \u001b[32m━━━━━━━━━━━━━━━━━━━━\u001b[0m\u001b[37m\u001b[0m \u001b[1m1s\u001b[0m 468us/step - accuracy: 0.6731 - loss: 0.8266 - val_accuracy: 0.7287 - val_loss: 0.7056\n",
      "Epoch 46/50\n",
      "\u001b[1m3000/3000\u001b[0m \u001b[32m━━━━━━━━━━━━━━━━━━━━\u001b[0m\u001b[37m\u001b[0m \u001b[1m2s\u001b[0m 506us/step - accuracy: 0.6776 - loss: 0.8113 - val_accuracy: 0.7311 - val_loss: 0.7392\n",
      "Epoch 47/50\n",
      "\u001b[1m3000/3000\u001b[0m \u001b[32m━━━━━━━━━━━━━━━━━━━━\u001b[0m\u001b[37m\u001b[0m \u001b[1m1s\u001b[0m 453us/step - accuracy: 0.6689 - loss: 0.8323 - val_accuracy: 0.7246 - val_loss: 0.7327\n",
      "Epoch 48/50\n",
      "\u001b[1m3000/3000\u001b[0m \u001b[32m━━━━━━━━━━━━━━━━━━━━\u001b[0m\u001b[37m\u001b[0m \u001b[1m1s\u001b[0m 450us/step - accuracy: 0.6665 - loss: 0.8412 - val_accuracy: 0.6917 - val_loss: 0.7931\n",
      "Epoch 49/50\n",
      "\u001b[1m3000/3000\u001b[0m \u001b[32m━━━━━━━━━━━━━━━━━━━━\u001b[0m\u001b[37m\u001b[0m \u001b[1m1s\u001b[0m 446us/step - accuracy: 0.6779 - loss: 0.8102 - val_accuracy: 0.6579 - val_loss: 0.8191\n",
      "Epoch 50/50\n",
      "\u001b[1m3000/3000\u001b[0m \u001b[32m━━━━━━━━━━━━━━━━━━━━\u001b[0m\u001b[37m\u001b[0m \u001b[1m1s\u001b[0m 462us/step - accuracy: 0.6726 - loss: 0.8275 - val_accuracy: 0.7389 - val_loss: 0.6715\n"
     ]
    }
   ],
   "source": [
    "# -----------------------------\n",
    "# 3) 모델 학습\n",
    "# -----------------------------\n",
    "history = model.fit(\n",
    "    X_train, y_train,\n",
    "    validation_split=0.2,\n",
    "    epochs=50,\n",
    "    batch_size=16,\n",
    "    verbose=1\n",
    ")"
   ]
  },
  {
   "cell_type": "code",
   "execution_count": 14,
   "metadata": {
    "colab": {
     "base_uri": "https://localhost:8080/"
    },
    "executionInfo": {
     "elapsed": 188,
     "status": "ok",
     "timestamp": 1758613138135,
     "user": {
      "displayName": "강태훈/컴퓨터공학부(컴퓨터공학전공)",
      "userId": "15889769205173262204"
     },
     "user_tz": -540
    },
    "id": "xJVb12w2JiI9",
    "outputId": "15adb6c7-296f-426f-ee1d-723a0eeb8f0e"
   },
   "outputs": [
    {
     "name": "stdout",
     "output_type": "stream",
     "text": [
      "\u001b[1m313/313\u001b[0m \u001b[32m━━━━━━━━━━━━━━━━━━━━\u001b[0m\u001b[37m\u001b[0m \u001b[1m0s\u001b[0m 265us/step\n"
     ]
    }
   ],
   "source": [
    "# -----------------------------\n",
    "# 4) 예측결과 생성\n",
    "# -----------------------------\n",
    "\n",
    "y_pred = model.predict(X_test)\n",
    "\n",
    "y_pred_class = np.argmax(y_pred, axis=1)     # (N,)\n",
    "y_test_class = y_test  # (N,)"
   ]
  },
  {
   "cell_type": "code",
   "execution_count": 15,
   "metadata": {
    "collapsed": true,
    "id": "uOIikWZLKTAO"
   },
   "outputs": [],
   "source": [
    "# 학습 곡선\n",
    "\n",
    "loss = history.history['loss']\n",
    "val_loss = history.history['val_loss']\n",
    "acc = history.history['accuracy']\n",
    "val_acc = history.history['val_accuracy']"
   ]
  },
  {
   "cell_type": "code",
   "execution_count": 16,
   "metadata": {
    "colab": {
     "base_uri": "https://localhost:8080/",
     "height": 472
    },
    "collapsed": true,
    "executionInfo": {
     "elapsed": 197,
     "status": "ok",
     "timestamp": 1758613141633,
     "user": {
      "displayName": "강태훈/컴퓨터공학부(컴퓨터공학전공)",
      "userId": "15889769205173262204"
     },
     "user_tz": -540
    },
    "id": "vTbZKhcEKaKs",
    "outputId": "2f48231b-7814-4a77-abb3-835c68eed0d3"
   },
   "outputs": [
    {
     "data": {
      "image/png": "[encoded data removed]",
      "text/plain": [
       "<Figure size 640x480 with 1 Axes>"
      ]
     },
     "metadata": {},
     "output_type": "display_data"
    }
   ],
   "source": [
    "\n",
    "import matplotlib.pyplot as plt\n",
    "import seaborn as sns\n",
    "\n",
    "loss = history.history['loss']\n",
    "val_loss = history.history['val_loss']\n",
    "epochs = range(1, len(loss) + 1)\n",
    "plt.plot(epochs, loss, 'y', label='Training loss')\n",
    "plt.plot(epochs, val_loss, 'r', label='Validation loss')\n",
    "plt.title('Training and validation loss')\n",
    "plt.xlabel('Epochs')\n",
    "plt.ylabel('Loss')\n",
    "plt.legend()\n",
    "plt.show()"
   ]
  },
  {
   "cell_type": "code",
   "execution_count": 17,
   "metadata": {
    "colab": {
     "base_uri": "https://localhost:8080/",
     "height": 472
    },
    "executionInfo": {
     "elapsed": 162,
     "status": "ok",
     "timestamp": 1758613145470,
     "user": {
      "displayName": "강태훈/컴퓨터공학부(컴퓨터공학전공)",
      "userId": "15889769205173262204"
     },
     "user_tz": -540
    },
    "id": "aCuhek6cJiMd",
    "outputId": "c029762f-ce2b-4e1f-d3d6-014f2f36bea7"
   },
   "outputs": [
    {
     "data": {
      "image/png": "[encoded data removed]",
      "text/plain": [
       "<Figure size 640x480 with 1 Axes>"
      ]
     },
     "metadata": {},
     "output_type": "display_data"
    }
   ],
   "source": [
    "\n",
    "acc = history.history['accuracy']\n",
    "val_acc = history.history['val_accuracy']\n",
    "plt.plot(epochs, acc, 'y', label='Training acc')\n",
    "plt.plot(epochs, val_acc, 'r', label='Validation acc')\n",
    "plt.title('Training and validation accuracy')\n",
    "plt.xlabel('Epochs')\n",
    "plt.ylabel('Accuracy')\n",
    "plt.legend()\n",
    "plt.show()\n"
   ]
  },
  {
   "cell_type": "code",
   "execution_count": 22,
   "metadata": {
    "colab": {
     "base_uri": "https://localhost:8080/"
    },
    "collapsed": true,
    "executionInfo": {
     "elapsed": 45,
     "status": "ok",
     "timestamp": 1758613148616,
     "user": {
      "displayName": "강태훈/컴퓨터공학부(컴퓨터공학전공)",
      "userId": "15889769205173262204"
     },
     "user_tz": -540
    },
    "id": "NBg_sJmNSPxj",
    "outputId": "a356aab0-72d7-4168-a990-456b87fa2a3b"
   },
   "outputs": [
    {
     "name": "stdout",
     "output_type": "stream",
     "text": [
      "              precision    recall  f1-score   support\n",
      "\n",
      "           0       1.00      0.94      0.97        33\n",
      "           1       0.94      0.92      0.93        37\n",
      "           2       1.00      1.00      1.00        34\n",
      "           3       0.95      1.00      0.97        37\n",
      "           4       0.92      1.00      0.96        34\n",
      "           5       0.97      0.97      0.97        37\n",
      "           6       1.00      0.97      0.99        35\n",
      "           7       1.00      0.95      0.98        43\n",
      "           8       0.91      0.91      0.91        32\n",
      "           9       0.97      1.00      0.99        38\n",
      "\n",
      "    accuracy                           0.97       360\n",
      "   macro avg       0.97      0.97      0.97       360\n",
      "weighted avg       0.97      0.97      0.97       360\n",
      "\n",
      "[[31  0  0  0  2  0  0  0  0  0]\n",
      " [ 0 34  0  0  0  0  0  0  2  1]\n",
      " [ 0  0 34  0  0  0  0  0  0  0]\n",
      " [ 0  0  0 37  0  0  0  0  0  0]\n",
      " [ 0  0  0  0 34  0  0  0  0  0]\n",
      " [ 0  0  0  1  0 36  0  0  0  0]\n",
      " [ 0  0  0  0  0  0 34  0  1  0]\n",
      " [ 0  0  0  0  1  1  0 41  0  0]\n",
      " [ 0  2  0  1  0  0  0  0 29  0]\n",
      " [ 0  0  0  0  0  0  0  0  0 38]]\n"
     ]
    }
   ],
   "source": [
    "#Accuracy of the predicted values\n",
    "from sklearn.metrics import classification_report,confusion_matrix\n",
    "print(classification_report(y_test_class,y_pred_class))\n",
    "print(confusion_matrix(y_test_class,y_pred_class))\n"
   ]
  }
 ],
 "metadata": {
  "colab": {
   "provenance": []
  },
  "kernelspec": {
   "display_name": "Python 3",
   "name": "python3"
  },
  "language_info": {
   "codemirror_mode": {
    "name": "ipython",
    "version": 3
   },
   "file_extension": ".py",
   "mimetype": "text/x-python",
   "name": "python",
   "nbconvert_exporter": "python",
   "pygments_lexer": "ipython3",
   "version": "3.13.7"
  }
 },
 "nbformat": 4,
 "nbformat_minor": 0
}
