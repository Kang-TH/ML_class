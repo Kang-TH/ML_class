{
 "cells": [
  {
   "cell_type": "code",
   "execution_count": 3,
   "metadata": {
    "colab": {
     "base_uri": "https://localhost:8080/"
    },
    "executionInfo": {
     "elapsed": 18555,
     "status": "ok",
     "timestamp": 1758703980025,
     "user": {
      "displayName": "강태훈/컴퓨터공학부(컴퓨터공학전공)",
      "userId": "15889769205173262204"
     },
     "user_tz": -540
    },
    "id": "F-H3HC4qTt23",
    "outputId": "fb6c5fe4-c47e-426a-9dfc-e39f399e99df"
   },
   "outputs": [
    {
     "name": "stdout",
     "output_type": "stream",
     "text": [
      "Mounted at /content/drive\n"
     ]
    }
   ],
   "source": [
    "from google.colab import drive\n",
    "drive.mount('/content/drive')"
   ]
  },
  {
   "cell_type": "code",
   "execution_count": 37,
   "metadata": {
    "colab": {
     "base_uri": "https://localhost:8080/",
     "height": 423
    },
    "executionInfo": {
     "elapsed": 7430,
     "status": "ok",
     "timestamp": 1758703988879,
     "user": {
      "displayName": "강태훈/컴퓨터공학부(컴퓨터공학전공)",
      "userId": "15889769205173262204"
     },
     "user_tz": -540
    },
    "id": "W204yOT-C5CK",
    "outputId": "11c5d057-280e-4582-ddf4-f6ef69b5c7b9"
   },
   "outputs": [],
   "source": [
    "import pandas as pd\n",
    "import tensorflow as tf\n",
    "from sklearn.model_selection import train_test_split\n",
    "from sklearn.tree import DecisionTreeClassifier\n",
    "from sklearn.ensemble import RandomForestClassifier\n",
    "from sklearn.linear_model import LogisticRegression\n",
    "from sklearn.metrics import accuracy_score\n",
    "from tensorflow.keras import layers, models\n",
    "import numpy as np\n",
    "\n",
    "\n",
    "\n",
    "# -----------------------------\n",
    "# 1) 데이터 준비\n",
    "# -----------------------------\n"
   ]
  },
  {
   "cell_type": "code",
   "execution_count": 38,
   "metadata": {},
   "outputs": [],
   "source": [
    "# -----------------------------\n",
    "# 1) 데이터 준비\n",
    "# -----------------------------\n",
    "\n",
    "\n",
    "import matplotlib.pyplot as plt\n",
    "from sklearn import datasets, metrics\n",
    "from sklearn.model_selection import train_test_split\n",
    "\n",
    "from tensorflow.keras.datasets import cifar10\n",
    "\n",
    "(X_train, y_train), (X_test, y_test) = cifar10.load_data()\n",
    "class_names = ['airplane','automobile','bird','cat','deer',\n",
    "               'dog','frog','horse','ship','truck']\n",
    "\n"
   ]
  },
  {
   "cell_type": "code",
   "execution_count": 39,
   "metadata": {},
   "outputs": [],
   "source": [
    "# ===============================\n",
    "# 2) 특정 클래스만 선택\n",
    "# ===============================\n",
    "\n",
    "selected_classes = ['cat','dog','horse']\n",
    "selected_idx = [class_names.index(c) for c in selected_classes]\n",
    "\n",
    "# train/test 데이터 필터링\n",
    "train_mask = np.isin(y_train, selected_idx).flatten()\n",
    "test_mask  = np.isin(y_test,  selected_idx).flatten()\n",
    "\n",
    "X_train, y_train = X_train[train_mask], y_train[train_mask]\n",
    "X_test,  y_test  = X_test[test_mask],  y_test[test_mask]"
   ]
  },
  {
   "cell_type": "code",
   "execution_count": 40,
   "metadata": {},
   "outputs": [
    {
     "name": "stdout",
     "output_type": "stream",
     "text": [
      "선택된 학습 데이터: (15000, 32, 32, 3) (15000, 1)\n",
      "선택된 테스트 데이터: (3000, 32, 32, 3) (3000, 1)\n"
     ]
    }
   ],
   "source": [
    "print(\"선택된 학습 데이터:\", X_train.shape, y_train.shape)\n",
    "print(\"선택된 테스트 데이터:\", X_test.shape, y_test.shape)"
   ]
  },
  {
   "cell_type": "code",
   "execution_count": 41,
   "metadata": {},
   "outputs": [
    {
     "name": "stderr",
     "output_type": "stream",
     "text": [
      "/var/folders/kr/40f2zd957vq77nm9txt6dlg40000gn/T/ipykernel_82110/3627728919.py:5: DeprecationWarning: Conversion of an array with ndim > 0 to a scalar is deprecated, and will error in future. Ensure you extract a single element from your array before performing this operation. (Deprecated NumPy 1.25.)\n",
      "  y_train = np.array([label_map[int(v)] for v in y_train])\n",
      "/var/folders/kr/40f2zd957vq77nm9txt6dlg40000gn/T/ipykernel_82110/3627728919.py:6: DeprecationWarning: Conversion of an array with ndim > 0 to a scalar is deprecated, and will error in future. Ensure you extract a single element from your array before performing this operation. (Deprecated NumPy 1.25.)\n",
      "  y_test  = np.array([label_map[int(v)] for v in y_test])\n"
     ]
    }
   ],
   "source": [
    "# ===============================\n",
    "# 3) 라벨 매핑 (예: cat=0, dog=1, horse=2)\n",
    "# ===============================\n",
    "label_map = {v:i for i,v in enumerate(selected_idx)}\n",
    "y_train = np.array([label_map[int(v)] for v in y_train])\n",
    "y_test  = np.array([label_map[int(v)] for v in y_test])"
   ]
  },
  {
   "cell_type": "code",
   "execution_count": 42,
   "metadata": {},
   "outputs": [],
   "source": [
    "X_train, X_test = X_train / 255.0, X_test / 255.0"
   ]
  },
  {
   "cell_type": "code",
   "execution_count": 44,
   "metadata": {
    "colab": {
     "base_uri": "https://localhost:8080/"
    },
    "executionInfo": {
     "elapsed": 138,
     "status": "ok",
     "timestamp": 1758704012056,
     "user": {
      "displayName": "강태훈/컴퓨터공학부(컴퓨터공학전공)",
      "userId": "15889769205173262204"
     },
     "user_tz": -540
    },
    "id": "GT2cNXoDJEx9",
    "outputId": "2b922af9-94d7-4c55-9f96-e5f5ca0ddc97"
   },
   "outputs": [],
   "source": [
    "# -----------------------------\n",
    "# 2) 모델 구성\n",
    "# -----------------------------\n",
    "model = models.Sequential([\n",
    "    layers.Conv2D(32, (3,3), activation=\"relu\", input_shape=(32,32,3)),\n",
    "    layers.MaxPooling2D((2,2)),\n",
    "    layers.Dropout(0.25),              \n",
    "    \n",
    "    layers.Conv2D(64, (3,3), activation=\"relu\"),\n",
    "    layers.MaxPooling2D((2,2)),\n",
    "    layers.Dropout(0.25),\n",
    "    \n",
    "    layers.Flatten(),\n",
    "    layers.Dense(128, activation=\"relu\"),\n",
    "    layers.Dropout(0.5),               \n",
    "    layers.Dense(10, activation=\"softmax\")\n",
    "])\n",
    "\n",
    "model.compile(\n",
    "    optimizer=\"adam\",\n",
    "    loss=\"sparse_categorical_crossentropy\",  \n",
    "    metrics=[\"accuracy\"]\n",
    ")\n",
    "\n"
   ]
  },
  {
   "cell_type": "code",
   "execution_count": 45,
   "metadata": {
    "colab": {
     "base_uri": "https://localhost:8080/"
    },
    "collapsed": true,
    "executionInfo": {
     "elapsed": 34595,
     "status": "ok",
     "timestamp": 1758704053004,
     "user": {
      "displayName": "강태훈/컴퓨터공학부(컴퓨터공학전공)",
      "userId": "15889769205173262204"
     },
     "user_tz": -540
    },
    "id": "PAZN0vsKJE1V",
    "outputId": "28a902b2-68d3-489e-8e4f-77c089203ac0"
   },
   "outputs": [
    {
     "name": "stdout",
     "output_type": "stream",
     "text": [
      "Epoch 1/20\n",
      "\u001b[1m375/375\u001b[0m \u001b[32m━━━━━━━━━━━━━━━━━━━━\u001b[0m\u001b[37m\u001b[0m \u001b[1m3s\u001b[0m 8ms/step - accuracy: 0.4638 - loss: 1.0503 - val_accuracy: 0.5513 - val_loss: 0.8907\n",
      "Epoch 2/20\n",
      "\u001b[1m375/375\u001b[0m \u001b[32m━━━━━━━━━━━━━━━━━━━━\u001b[0m\u001b[37m\u001b[0m \u001b[1m3s\u001b[0m 7ms/step - accuracy: 0.5757 - loss: 0.8698 - val_accuracy: 0.6450 - val_loss: 0.7964\n",
      "Epoch 3/20\n",
      "\u001b[1m375/375\u001b[0m \u001b[32m━━━━━━━━━━━━━━━━━━━━\u001b[0m\u001b[37m\u001b[0m \u001b[1m3s\u001b[0m 7ms/step - accuracy: 0.6181 - loss: 0.8122 - val_accuracy: 0.6667 - val_loss: 0.7566\n",
      "Epoch 4/20\n",
      "\u001b[1m375/375\u001b[0m \u001b[32m━━━━━━━━━━━━━━━━━━━━\u001b[0m\u001b[37m\u001b[0m \u001b[1m3s\u001b[0m 7ms/step - accuracy: 0.6457 - loss: 0.7627 - val_accuracy: 0.6870 - val_loss: 0.7117\n",
      "Epoch 5/20\n",
      "\u001b[1m375/375\u001b[0m \u001b[32m━━━━━━━━━━━━━━━━━━━━\u001b[0m\u001b[37m\u001b[0m \u001b[1m3s\u001b[0m 7ms/step - accuracy: 0.6672 - loss: 0.7237 - val_accuracy: 0.6797 - val_loss: 0.6962\n",
      "Epoch 6/20\n",
      "\u001b[1m375/375\u001b[0m \u001b[32m━━━━━━━━━━━━━━━━━━━━\u001b[0m\u001b[37m\u001b[0m \u001b[1m3s\u001b[0m 7ms/step - accuracy: 0.6772 - loss: 0.6973 - val_accuracy: 0.7077 - val_loss: 0.6778\n",
      "Epoch 7/20\n",
      "\u001b[1m375/375\u001b[0m \u001b[32m━━━━━━━━━━━━━━━━━━━━\u001b[0m\u001b[37m\u001b[0m \u001b[1m3s\u001b[0m 7ms/step - accuracy: 0.6953 - loss: 0.6754 - val_accuracy: 0.7103 - val_loss: 0.6616\n",
      "Epoch 8/20\n",
      "\u001b[1m375/375\u001b[0m \u001b[32m━━━━━━━━━━━━━━━━━━━━\u001b[0m\u001b[37m\u001b[0m \u001b[1m3s\u001b[0m 7ms/step - accuracy: 0.7182 - loss: 0.6426 - val_accuracy: 0.7210 - val_loss: 0.6425\n",
      "Epoch 9/20\n",
      "\u001b[1m375/375\u001b[0m \u001b[32m━━━━━━━━━━━━━━━━━━━━\u001b[0m\u001b[37m\u001b[0m \u001b[1m3s\u001b[0m 7ms/step - accuracy: 0.7231 - loss: 0.6346 - val_accuracy: 0.7283 - val_loss: 0.6294\n",
      "Epoch 10/20\n",
      "\u001b[1m375/375\u001b[0m \u001b[32m━━━━━━━━━━━━━━━━━━━━\u001b[0m\u001b[37m\u001b[0m \u001b[1m3s\u001b[0m 7ms/step - accuracy: 0.7352 - loss: 0.6070 - val_accuracy: 0.7353 - val_loss: 0.6220\n",
      "Epoch 11/20\n",
      "\u001b[1m375/375\u001b[0m \u001b[32m━━━━━━━━━━━━━━━━━━━━\u001b[0m\u001b[37m\u001b[0m \u001b[1m3s\u001b[0m 7ms/step - accuracy: 0.7442 - loss: 0.5967 - val_accuracy: 0.7313 - val_loss: 0.6181\n",
      "Epoch 12/20\n",
      "\u001b[1m375/375\u001b[0m \u001b[32m━━━━━━━━━━━━━━━━━━━━\u001b[0m\u001b[37m\u001b[0m \u001b[1m3s\u001b[0m 7ms/step - accuracy: 0.7492 - loss: 0.5712 - val_accuracy: 0.7330 - val_loss: 0.6163\n",
      "Epoch 13/20\n",
      "\u001b[1m375/375\u001b[0m \u001b[32m━━━━━━━━━━━━━━━━━━━━\u001b[0m\u001b[37m\u001b[0m \u001b[1m3s\u001b[0m 7ms/step - accuracy: 0.7558 - loss: 0.5612 - val_accuracy: 0.7320 - val_loss: 0.6145\n",
      "Epoch 14/20\n",
      "\u001b[1m375/375\u001b[0m \u001b[32m━━━━━━━━━━━━━━━━━━━━\u001b[0m\u001b[37m\u001b[0m \u001b[1m2s\u001b[0m 7ms/step - accuracy: 0.7578 - loss: 0.5522 - val_accuracy: 0.7503 - val_loss: 0.5832\n",
      "Epoch 15/20\n",
      "\u001b[1m375/375\u001b[0m \u001b[32m━━━━━━━━━━━━━━━━━━━━\u001b[0m\u001b[37m\u001b[0m \u001b[1m3s\u001b[0m 7ms/step - accuracy: 0.7687 - loss: 0.5276 - val_accuracy: 0.7480 - val_loss: 0.5951\n",
      "Epoch 16/20\n",
      "\u001b[1m375/375\u001b[0m \u001b[32m━━━━━━━━━━━━━━━━━━━━\u001b[0m\u001b[37m\u001b[0m \u001b[1m3s\u001b[0m 7ms/step - accuracy: 0.7738 - loss: 0.5248 - val_accuracy: 0.7457 - val_loss: 0.6164\n",
      "Epoch 17/20\n",
      "\u001b[1m375/375\u001b[0m \u001b[32m━━━━━━━━━━━━━━━━━━━━\u001b[0m\u001b[37m\u001b[0m \u001b[1m3s\u001b[0m 7ms/step - accuracy: 0.7796 - loss: 0.5144 - val_accuracy: 0.7417 - val_loss: 0.5878\n",
      "Epoch 18/20\n",
      "\u001b[1m375/375\u001b[0m \u001b[32m━━━━━━━━━━━━━━━━━━━━\u001b[0m\u001b[37m\u001b[0m \u001b[1m3s\u001b[0m 7ms/step - accuracy: 0.7933 - loss: 0.4947 - val_accuracy: 0.7557 - val_loss: 0.5890\n",
      "Epoch 19/20\n",
      "\u001b[1m375/375\u001b[0m \u001b[32m━━━━━━━━━━━━━━━━━━━━\u001b[0m\u001b[37m\u001b[0m \u001b[1m3s\u001b[0m 7ms/step - accuracy: 0.7921 - loss: 0.4893 - val_accuracy: 0.7637 - val_loss: 0.5800\n",
      "Epoch 20/20\n",
      "\u001b[1m375/375\u001b[0m \u001b[32m━━━━━━━━━━━━━━━━━━━━\u001b[0m\u001b[37m\u001b[0m \u001b[1m3s\u001b[0m 7ms/step - accuracy: 0.8012 - loss: 0.4687 - val_accuracy: 0.7567 - val_loss: 0.5799\n"
     ]
    }
   ],
   "source": [
    "# -----------------------------\n",
    "# 3) 모델 학습\n",
    "# -----------------------------\n",
    "history = model.fit(\n",
    "    X_train, y_train,\n",
    "    validation_split=0.2,\n",
    "    epochs=20,\n",
    "    batch_size=32,\n",
    "    verbose=1\n",
    ")"
   ]
  },
  {
   "cell_type": "code",
   "execution_count": 46,
   "metadata": {
    "colab": {
     "base_uri": "https://localhost:8080/"
    },
    "executionInfo": {
     "elapsed": 188,
     "status": "ok",
     "timestamp": 1758613138135,
     "user": {
      "displayName": "강태훈/컴퓨터공학부(컴퓨터공학전공)",
      "userId": "15889769205173262204"
     },
     "user_tz": -540
    },
    "id": "xJVb12w2JiI9",
    "outputId": "15adb6c7-296f-426f-ee1d-723a0eeb8f0e"
   },
   "outputs": [
    {
     "name": "stdout",
     "output_type": "stream",
     "text": [
      "\u001b[1m94/94\u001b[0m \u001b[32m━━━━━━━━━━━━━━━━━━━━\u001b[0m\u001b[37m\u001b[0m \u001b[1m0s\u001b[0m 2ms/step\n"
     ]
    }
   ],
   "source": [
    "# -----------------------------\n",
    "# 4) 예측결과 생성\n",
    "# -----------------------------\n",
    "\n",
    "y_pred = model.predict(X_test)\n",
    "\n",
    "y_pred_class = np.argmax(y_pred, axis=1)     # (N,)\n",
    "y_test_class = y_test  # (N,)"
   ]
  },
  {
   "cell_type": "code",
   "execution_count": 47,
   "metadata": {
    "collapsed": true,
    "id": "uOIikWZLKTAO"
   },
   "outputs": [],
   "source": [
    "# 학습 곡선\n",
    "\n",
    "loss = history.history['loss']\n",
    "val_loss = history.history['val_loss']\n",
    "acc = history.history['accuracy']\n",
    "val_acc = history.history['val_accuracy']"
   ]
  },
  {
   "cell_type": "code",
   "execution_count": 48,
   "metadata": {
    "colab": {
     "base_uri": "https://localhost:8080/",
     "height": 472
    },
    "collapsed": true,
    "executionInfo": {
     "elapsed": 197,
     "status": "ok",
     "timestamp": 1758613141633,
     "user": {
      "displayName": "강태훈/컴퓨터공학부(컴퓨터공학전공)",
      "userId": "15889769205173262204"
     },
     "user_tz": -540
    },
    "id": "vTbZKhcEKaKs",
    "outputId": "2f48231b-7814-4a77-abb3-835c68eed0d3"
   },
   "outputs": [
    {
     "data": {
      "image/png": "[encoded data removed]",
      "text/plain": [
       "<Figure size 640x480 with 1 Axes>"
      ]
     },
     "metadata": {},
     "output_type": "display_data"
    }
   ],
   "source": [
    "\n",
    "import matplotlib.pyplot as plt\n",
    "import seaborn as sns\n",
    "\n",
    "loss = history.history['loss']\n",
    "val_loss = history.history['val_loss']\n",
    "epochs = range(1, len(loss) + 1)\n",
    "plt.plot(epochs, loss, 'y', label='Training loss')\n",
    "plt.plot(epochs, val_loss, 'r', label='Validation loss')\n",
    "plt.title('Training and validation loss')\n",
    "plt.xlabel('Epochs')\n",
    "plt.ylabel('Loss')\n",
    "plt.legend()\n",
    "plt.show()"
   ]
  },
  {
   "cell_type": "code",
   "execution_count": 49,
   "metadata": {
    "colab": {
     "base_uri": "https://localhost:8080/",
     "height": 472
    },
    "executionInfo": {
     "elapsed": 162,
     "status": "ok",
     "timestamp": 1758613145470,
     "user": {
      "displayName": "강태훈/컴퓨터공학부(컴퓨터공학전공)",
      "userId": "15889769205173262204"
     },
     "user_tz": -540
    },
    "id": "aCuhek6cJiMd",
    "outputId": "c029762f-ce2b-4e1f-d3d6-014f2f36bea7"
   },
   "outputs": [
    {
     "data": {
      "image/png": "[encoded data removed]",
      "text/plain": [
       "<Figure size 640x480 with 1 Axes>"
      ]
     },
     "metadata": {},
     "output_type": "display_data"
    }
   ],
   "source": [
    "\n",
    "acc = history.history['accuracy']\n",
    "val_acc = history.history['val_accuracy']\n",
    "plt.plot(epochs, acc, 'y', label='Training acc')\n",
    "plt.plot(epochs, val_acc, 'r', label='Validation acc')\n",
    "plt.title('Training and validation accuracy')\n",
    "plt.xlabel('Epochs')\n",
    "plt.ylabel('Accuracy')\n",
    "plt.legend()\n",
    "plt.show()\n"
   ]
  },
  {
   "cell_type": "code",
   "execution_count": 50,
   "metadata": {
    "colab": {
     "base_uri": "https://localhost:8080/"
    },
    "collapsed": true,
    "executionInfo": {
     "elapsed": 45,
     "status": "ok",
     "timestamp": 1758613148616,
     "user": {
      "displayName": "강태훈/컴퓨터공학부(컴퓨터공학전공)",
      "userId": "15889769205173262204"
     },
     "user_tz": -540
    },
    "id": "NBg_sJmNSPxj",
    "outputId": "a356aab0-72d7-4168-a990-456b87fa2a3b"
   },
   "outputs": [
    {
     "name": "stdout",
     "output_type": "stream",
     "text": [
      "              precision    recall  f1-score   support\n",
      "\n",
      "           0       0.69      0.75      0.72      1000\n",
      "           1       0.70      0.68      0.69      1000\n",
      "           2       0.88      0.83      0.86      1000\n",
      "\n",
      "    accuracy                           0.76      3000\n",
      "   macro avg       0.76      0.76      0.76      3000\n",
      "weighted avg       0.76      0.76      0.76      3000\n",
      "\n",
      "[[751 194  55]\n",
      " [257 682  61]\n",
      " [ 73  93 834]]\n"
     ]
    }
   ],
   "source": [
    "#Accuracy of the predicted values\n",
    "from sklearn.metrics import classification_report,confusion_matrix\n",
    "print(classification_report(y_test_class,y_pred_class))\n",
    "print(confusion_matrix(y_test_class,y_pred_class))\n"
   ]
  }
 ],
 "metadata": {
  "colab": {
   "provenance": []
  },
  "kernelspec": {
   "display_name": "Python 3",
   "name": "python3"
  },
  "language_info": {
   "codemirror_mode": {
    "name": "ipython",
    "version": 3
   },
   "file_extension": ".py",
   "mimetype": "text/x-python",
   "name": "python",
   "nbconvert_exporter": "python",
   "pygments_lexer": "ipython3",
   "version": "3.13.7"
  }
 },
 "nbformat": 4,
 "nbformat_minor": 0
}
